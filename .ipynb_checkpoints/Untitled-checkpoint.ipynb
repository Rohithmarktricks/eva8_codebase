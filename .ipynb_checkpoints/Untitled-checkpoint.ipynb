{
 "cells": [
  {
   "cell_type": "code",
   "execution_count": null,
   "id": "ae41b883",
   "metadata": {},
   "outputs": [],
   "source": [
    "from albumentations.pytorch import ToTensorV2\n",
    "import albumentations as A"
   ]
  },
  {
   "cell_type": "code",
   "execution_count": null,
   "id": "480b14ee",
   "metadata": {},
   "outputs": [],
   "source": [
    "from models import ResNet18\n",
    "from main import Trainer\n",
    "from utils import Cifar10Dataset\n",
    "import torch\n",
    "from pytorch_grad_cam import GradCAM"
   ]
  },
  {
   "cell_type": "code",
   "execution_count": null,
   "id": "2a06496f",
   "metadata": {},
   "outputs": [],
   "source": [
    "import torchvision.models as models"
   ]
  },
  {
   "cell_type": "code",
   "execution_count": null,
   "id": "85ccd5f0",
   "metadata": {},
   "outputs": [],
   "source": [
    "model = models.resnet18(pretrained=True)"
   ]
  },
  {
   "cell_type": "code",
   "execution_count": null,
   "id": "cd0c2d3c",
   "metadata": {},
   "outputs": [],
   "source": [
    "from torchsummary import summary"
   ]
  },
  {
   "cell_type": "code",
   "execution_count": null,
   "id": "f0d79c84",
   "metadata": {},
   "outputs": [],
   "source": [
    "use_cuda = torch.cuda.is_available()\n",
    "device = torch.device('cuda' if use_cuda else 'cpu')"
   ]
  },
  {
   "cell_type": "code",
   "execution_count": null,
   "id": "cf8cf510",
   "metadata": {},
   "outputs": [],
   "source": [
    "model.to(device)"
   ]
  },
  {
   "cell_type": "code",
   "execution_count": null,
   "id": "9a8dea00",
   "metadata": {},
   "outputs": [],
   "source": [
    "summary(model, input_size=(3, 32, 32))"
   ]
  },
  {
   "cell_type": "code",
   "execution_count": null,
   "id": "435829cb",
   "metadata": {},
   "outputs": [],
   "source": [
    "target_layer = None"
   ]
  },
  {
   "cell_type": "code",
   "execution_count": null,
   "id": "8bcaa023",
   "metadata": {},
   "outputs": [],
   "source": [
    "\n",
    "for name, module in model.named_modules():\n",
    "    if isinstance(module, torch.nn.Conv2d):\n",
    "        # Get the output shape of the Conv2d layer\n",
    "        out_shape = list(module.weight.shape)[2:]\n",
    "        \n",
    "        # Check if the output shape is greater than 5x5\n",
    "        if out_shape[0] > 5 and out_shape[1] > 5:\n",
    "            # Set the target layer to the current Conv2d layer\n",
    "            target_layer = name\n",
    "            break"
   ]
  },
  {
   "cell_type": "code",
   "execution_count": null,
   "id": "7b96e3e2",
   "metadata": {},
   "outputs": [],
   "source": [
    "target_layer"
   ]
  },
  {
   "cell_type": "code",
   "execution_count": null,
   "id": "55627729",
   "metadata": {},
   "outputs": [],
   "source": [
    "model.layer1[0]"
   ]
  },
  {
   "cell_type": "code",
   "execution_count": null,
   "id": "43a04159",
   "metadata": {},
   "outputs": [],
   "source": [
    "list(model.named_modules())"
   ]
  },
  {
   "cell_type": "code",
   "execution_count": null,
   "id": "abba849d",
   "metadata": {},
   "outputs": [],
   "source": [
    "target_layer"
   ]
  },
  {
   "cell_type": "code",
   "execution_count": null,
   "id": "577a9412",
   "metadata": {},
   "outputs": [],
   "source": [
    "cam = GradCAM(model=model, target_layers = [model.layer1[0]], use_cuda = True)"
   ]
  },
  {
   "cell_type": "code",
   "execution_count": null,
   "id": "163cc073",
   "metadata": {},
   "outputs": [],
   "source": [
    "SEED = 1\n",
    "\n",
    "# CUDA?\n",
    "cuda = torch.cuda.is_available()\n",
    "print(\"CUDA Available?\", cuda)\n",
    "\n",
    "# For reproducibility\n",
    "torch.manual_seed(SEED)\n",
    "\n",
    "if cuda:\n",
    "    torch.cuda.manual_seed(SEED)\n",
    "        \n",
    "dataloader_args = dict(shuffle=True, batch_size=128, num_workers=4, pin_memory=True) if cuda else dict(shuffle=True, batch_size=64)"
   ]
  },
  {
   "cell_type": "code",
   "execution_count": null,
   "id": "067d2dc9",
   "metadata": {},
   "outputs": [],
   "source": [
    "train_transforms = A.Compose([\n",
    "    A.RandomCrop(height=32, width=32),\n",
    "    A.Cutout(num_holes=1, max_h_size=16, max_w_size=16, p=1),\n",
    "    A.Normalize(\n",
    "            mean = (0.4914, 0.4822, 0.4465),\n",
    "            std = (0.2470, 0.2435, 0.2616),\n",
    "            p =1.0\n",
    "        ),\n",
    "    ToTensorV2()\n",
    "    \n",
    "])\n",
    "\n",
    "\n",
    "test_transforms = A.Compose(\n",
    "    [\n",
    "        A.Normalize(\n",
    "            mean = (0.4914, 0.4822, 0.4465),\n",
    "            std = (0.2470, 0.2435, 0.2616),\n",
    "            p =1.0\n",
    "        ),\n",
    "        ToTensorV2()\n",
    "    ],\n",
    "    p=1.0\n",
    ")"
   ]
  },
  {
   "cell_type": "code",
   "execution_count": null,
   "id": "c379783e",
   "metadata": {},
   "outputs": [],
   "source": [
    "trainset = Cifar10Dataset(root='./data', train=True,\n",
    "                                        download=True, transform=train_transforms)\n",
    "\n",
    "                                        \n",
    "\n",
    "trainloader = torch.utils.data.DataLoader(trainset, **dataloader_args)"
   ]
  },
  {
   "cell_type": "code",
   "execution_count": null,
   "id": "0b7dd935",
   "metadata": {},
   "outputs": [],
   "source": [
    "images, targets = next(iter(trainloader))"
   ]
  },
  {
   "cell_type": "code",
   "execution_count": null,
   "id": "92bce575",
   "metadata": {},
   "outputs": [],
   "source": [
    "import torchvision\n",
    "import matplotlib.pyplot as plt\n",
    "\n",
    "\n",
    "grid = torchvision.utils.make_grid(images)\n",
    "grid = grid.numpy().transpose((1,2,0))\n",
    "\n",
    "plt.imshow(grid)\n",
    "plt.axis('off')\n",
    "plt.show()"
   ]
  },
  {
   "cell_type": "code",
   "execution_count": null,
   "id": "e902a75d",
   "metadata": {},
   "outputs": [],
   "source": [
    "classes = ('plane', 'car', 'bird', 'cat',\n",
    "           'deer', 'dog', 'frog', 'horse', 'ship', 'truck')"
   ]
  },
  {
   "cell_type": "code",
   "execution_count": null,
   "id": "af506341",
   "metadata": {},
   "outputs": [],
   "source": [
    "testset = Cifar10Dataset(root='./data', train=False,\n",
    "                                        download=True, transform=test_transforms)\n",
    "\n",
    "testloader = torch.utils.data.DataLoader(testset, **dataloader_args)"
   ]
  },
  {
   "cell_type": "code",
   "execution_count": null,
   "id": "f57d6586",
   "metadata": {},
   "outputs": [],
   "source": [
    "model = ResNet18().to(device)"
   ]
  },
  {
   "cell_type": "code",
   "execution_count": null,
   "id": "d5ebeb55",
   "metadata": {},
   "outputs": [],
   "source": [
    "from main import Trainer\n",
    "import torch.optim as optim\n",
    "import torch.nn as nn"
   ]
  },
  {
   "cell_type": "code",
   "execution_count": null,
   "id": "7e6a294c",
   "metadata": {},
   "outputs": [],
   "source": [
    "criterion = nn.CrossEntropyLoss()\n",
    "optimizer = optim.SGD(model.parameters(), lr=0.001, momentum=0.9)"
   ]
  },
  {
   "cell_type": "code",
   "execution_count": null,
   "id": "48a819f2",
   "metadata": {},
   "outputs": [],
   "source": [
    "model_trainer = Trainer(model, device, criterion, optimizer, batch_size=128)"
   ]
  },
  {
   "cell_type": "code",
   "execution_count": null,
   "id": "b6b97947",
   "metadata": {},
   "outputs": [],
   "source": [
    "epochs = 20\n",
    "\n",
    "for epoch in range(epochs):\n",
    "    model_trainer.train(trainloader)\n",
    "    model_trainer.test(testloader)"
   ]
  },
  {
   "cell_type": "code",
   "execution_count": null,
   "id": "0decc5a2",
   "metadata": {},
   "outputs": [],
   "source": [
    "train_losses, train_acc = model_trainer.get_train_stats()\n",
    "test_losses, test_acc = model_trainer.get_test_stats()"
   ]
  },
  {
   "cell_type": "code",
   "execution_count": null,
   "id": "2bffc45c",
   "metadata": {},
   "outputs": [],
   "source": [
    "list(map(lambda x: x.cpu().item(), train_losses))"
   ]
  },
  {
   "cell_type": "code",
   "execution_count": null,
   "id": "3260d38f",
   "metadata": {},
   "outputs": [],
   "source": [
    "train_acc"
   ]
  },
  {
   "cell_type": "code",
   "execution_count": null,
   "id": "d9791eac",
   "metadata": {},
   "outputs": [],
   "source": [
    "list(map(lambda x: x.cpu().item(), test_losses))"
   ]
  },
  {
   "cell_type": "code",
   "execution_count": null,
   "id": "0c26391a",
   "metadata": {},
   "outputs": [],
   "source": [
    "test_acc"
   ]
  },
  {
   "cell_type": "code",
   "execution_count": null,
   "id": "66f38f5b",
   "metadata": {},
   "outputs": [],
   "source": [
    "misclassified_imgs = model_trainer.get_misclassified_images(testloader)"
   ]
  },
  {
   "cell_type": "code",
   "execution_count": null,
   "id": "28ef92c2",
   "metadata": {},
   "outputs": [],
   "source": [
    "misclassified_imgs.keys()"
   ]
  },
  {
   "cell_type": "code",
   "execution_count": null,
   "id": "30229d32",
   "metadata": {},
   "outputs": [],
   "source": [
    "classes = ('plane', 'car', 'bird', 'cat',\n",
    "           'deer', 'dog', 'frog', 'horse', 'ship', 'truck')\n",
    "\n",
    "\n",
    "def idx_to_class(idx):\n",
    "    return classes[idx]"
   ]
  },
  {
   "cell_type": "code",
   "execution_count": null,
   "id": "17fdac05",
   "metadata": {},
   "outputs": [],
   "source": []
  },
  {
   "cell_type": "code",
   "execution_count": null,
   "id": "0ecd2635",
   "metadata": {},
   "outputs": [],
   "source": [
    "import numpy as np\n",
    "fig, axs = plt.subplots(5, 4, figsize=(10, 10),squeeze=False )\n",
    "fig.tight_layout(h_pad=2)\n",
    "idx = 0\n",
    "keys_list = iter(list(misclassified_imgs.keys()))\n",
    "for i in range(5):\n",
    "    for j in range(4):\n",
    "        idx = next(keys_list)\n",
    "        true_label = idx_to_class(misclassified_imgs[idx][1])\n",
    "        pred_label = idx_to_class(misclassified_imgs[idx][2].item())\n",
    "        axs[i, j].imshow(np.transpose(misclassified_imgs[idx][0], (1,2,0)), cmap='gray')\n",
    "        axs[i, j].axis('off')\n",
    "        axs[i, j].set_title(f'True Label: {true_label}\\n Pred Label:{pred_label}')\n",
    "        "
   ]
  },
  {
   "cell_type": "code",
   "execution_count": 1,
   "id": "9b46d3fd",
   "metadata": {},
   "outputs": [],
   "source": [
    "from models.resnet import ResNet18\n",
    "from utils.data_utils import Cifar10Dataset, get_train_transforms, get_test_transforms, get_dataloader_args, load_data, get_device\n",
    "from utils.plots import plot_stats, plot_imgs"
   ]
  },
  {
   "cell_type": "code",
   "execution_count": 2,
   "id": "3df13280",
   "metadata": {},
   "outputs": [],
   "source": [
    "from main import Trainer, get_criterion_for_classification, get_sgd_optimizer"
   ]
  },
  {
   "cell_type": "code",
   "execution_count": 3,
   "id": "995a4ff3",
   "metadata": {},
   "outputs": [
    {
     "name": "stdout",
     "output_type": "stream",
     "text": [
      "cuda\n"
     ]
    }
   ],
   "source": [
    "device = get_device()\n",
    "print(device)"
   ]
  },
  {
   "cell_type": "code",
   "execution_count": 4,
   "id": "4546c4de",
   "metadata": {},
   "outputs": [
    {
     "name": "stdout",
     "output_type": "stream",
     "text": [
      "{'shuffle': True, 'batch_size': 128, 'num_workers': 4, 'pin_memory': True}\n"
     ]
    }
   ],
   "source": [
    "dataloader_args = get_dataloader_args(batch_size=128)\n",
    "print(dataloader_args)"
   ]
  },
  {
   "cell_type": "code",
   "execution_count": 5,
   "id": "44758fd9",
   "metadata": {},
   "outputs": [
    {
     "name": "stderr",
     "output_type": "stream",
     "text": [
      "C:\\Users\\rohit\\anaconda3\\envs\\tf\\lib\\site-packages\\albumentations\\augmentations\\dropout\\cutout.py:49: FutureWarning: Cutout has been deprecated. Please use CoarseDropout\n",
      "  warnings.warn(\n"
     ]
    }
   ],
   "source": [
    "train_transforms = get_train_transforms()\n",
    "test_transforms = get_test_transforms()"
   ]
  },
  {
   "cell_type": "code",
   "execution_count": 6,
   "id": "484d7968",
   "metadata": {},
   "outputs": [
    {
     "name": "stdout",
     "output_type": "stream",
     "text": [
      "Files already downloaded and verified\n",
      "Files already downloaded and verified\n"
     ]
    }
   ],
   "source": [
    "train_loader = load_data(train=True, dataloader_args=dataloader_args, transforms=train_transforms)\n",
    "test_loader = load_data(train=False, dataloader_args=dataloader_args, transforms=test_transforms)"
   ]
  },
  {
   "cell_type": "code",
   "execution_count": 9,
   "id": "ee3f0a37",
   "metadata": {},
   "outputs": [],
   "source": [
    "model  = ResNet18().to(device)\n"
   ]
  },
  {
   "cell_type": "code",
   "execution_count": 11,
   "id": "13e01802",
   "metadata": {},
   "outputs": [],
   "source": [
    "criterion = get_criterion_for_classification()\n",
    "optimizer, scheduler = get_sgd_optimizer(model, scheduler=True)"
   ]
  },
  {
   "cell_type": "code",
   "execution_count": 12,
   "id": "aba93eeb",
   "metadata": {},
   "outputs": [],
   "source": [
    "trainer = Trainer(model, device, criterion, optimizer, batch_size=128)"
   ]
  },
  {
   "cell_type": "code",
   "execution_count": 14,
   "id": "df24362e",
   "metadata": {},
   "outputs": [
    {
     "name": "stdout",
     "output_type": "stream",
     "text": [
      "Epoch: 0\n"
     ]
    },
    {
     "name": "stderr",
     "output_type": "stream",
     "text": [
      " Loss=1.2340692281723022 Batch_id=390 Accuracy=52.05: 100%|██████████████████████████| 391/391 [00:45<00:00,  8.56it/s]\n"
     ]
    },
    {
     "name": "stdout",
     "output_type": "stream",
     "text": [
      "\n",
      "Test set: Average loss: 0.0093, Accuracy: 5729/10000 (57.29%)\n",
      "\n",
      "Epoch: 1\n"
     ]
    },
    {
     "name": "stderr",
     "output_type": "stream",
     "text": [
      " Loss=1.2129127979278564 Batch_id=390 Accuracy=59.71: 100%|██████████████████████████| 391/391 [00:45<00:00,  8.61it/s]\n"
     ]
    },
    {
     "name": "stdout",
     "output_type": "stream",
     "text": [
      "\n",
      "Test set: Average loss: 0.0079, Accuracy: 6453/10000 (64.53%)\n",
      "\n",
      "Epoch: 2\n"
     ]
    },
    {
     "name": "stderr",
     "output_type": "stream",
     "text": [
      " Loss=0.9187477231025696 Batch_id=390 Accuracy=64.97: 100%|██████████████████████████| 391/391 [00:45<00:00,  8.53it/s]\n"
     ]
    },
    {
     "name": "stdout",
     "output_type": "stream",
     "text": [
      "\n",
      "Test set: Average loss: 0.0074, Accuracy: 6672/10000 (66.72%)\n",
      "\n",
      "Epoch: 3\n"
     ]
    },
    {
     "name": "stderr",
     "output_type": "stream",
     "text": [
      " Loss=0.7657151222229004 Batch_id=390 Accuracy=69.38: 100%|██████████████████████████| 391/391 [00:45<00:00,  8.56it/s]\n"
     ]
    },
    {
     "name": "stdout",
     "output_type": "stream",
     "text": [
      "\n",
      "Test set: Average loss: 0.0068, Accuracy: 6985/10000 (69.85%)\n",
      "\n",
      "Epoch: 4\n"
     ]
    },
    {
     "name": "stderr",
     "output_type": "stream",
     "text": [
      " Loss=0.7049136161804199 Batch_id=390 Accuracy=72.81: 100%|██████████████████████████| 391/391 [00:45<00:00,  8.50it/s]\n"
     ]
    },
    {
     "name": "stdout",
     "output_type": "stream",
     "text": [
      "\n",
      "Test set: Average loss: 0.0072, Accuracy: 6893/10000 (68.93%)\n",
      "\n",
      "Epoch: 5\n"
     ]
    },
    {
     "name": "stderr",
     "output_type": "stream",
     "text": [
      " Loss=0.7795237302780151 Batch_id=390 Accuracy=75.52: 100%|██████████████████████████| 391/391 [00:45<00:00,  8.56it/s]\n"
     ]
    },
    {
     "name": "stdout",
     "output_type": "stream",
     "text": [
      "\n",
      "Test set: Average loss: 0.0059, Accuracy: 7429/10000 (74.29%)\n",
      "\n",
      "Epoch: 6\n"
     ]
    },
    {
     "name": "stderr",
     "output_type": "stream",
     "text": [
      " Loss=0.5333396196365356 Batch_id=390 Accuracy=78.24: 100%|██████████████████████████| 391/391 [00:45<00:00,  8.52it/s]\n"
     ]
    },
    {
     "name": "stdout",
     "output_type": "stream",
     "text": [
      "\n",
      "Test set: Average loss: 0.0055, Accuracy: 7649/10000 (76.49%)\n",
      "\n",
      "Epoch: 7\n"
     ]
    },
    {
     "name": "stderr",
     "output_type": "stream",
     "text": [
      " Loss=0.6159834265708923 Batch_id=390 Accuracy=80.26: 100%|██████████████████████████| 391/391 [00:45<00:00,  8.61it/s]\n"
     ]
    },
    {
     "name": "stdout",
     "output_type": "stream",
     "text": [
      "\n",
      "Test set: Average loss: 0.0052, Accuracy: 7816/10000 (78.16%)\n",
      "\n",
      "Epoch: 8\n"
     ]
    },
    {
     "name": "stderr",
     "output_type": "stream",
     "text": [
      " Loss=0.507366955280304 Batch_id=390 Accuracy=82.35: 100%|███████████████████████████| 391/391 [00:45<00:00,  8.57it/s]\n"
     ]
    },
    {
     "name": "stdout",
     "output_type": "stream",
     "text": [
      "\n",
      "Test set: Average loss: 0.0060, Accuracy: 7613/10000 (76.13%)\n",
      "\n",
      "Epoch: 9\n"
     ]
    },
    {
     "name": "stderr",
     "output_type": "stream",
     "text": [
      " Loss=0.35271206498146057 Batch_id=390 Accuracy=84.12: 100%|█████████████████████████| 391/391 [00:45<00:00,  8.60it/s]\n"
     ]
    },
    {
     "name": "stdout",
     "output_type": "stream",
     "text": [
      "\n",
      "Test set: Average loss: 0.0060, Accuracy: 7568/10000 (75.68%)\n",
      "\n",
      "Epoch: 10\n"
     ]
    },
    {
     "name": "stderr",
     "output_type": "stream",
     "text": [
      " Loss=0.4531642496585846 Batch_id=390 Accuracy=85.82: 100%|██████████████████████████| 391/391 [00:45<00:00,  8.60it/s]\n"
     ]
    },
    {
     "name": "stdout",
     "output_type": "stream",
     "text": [
      "\n",
      "Test set: Average loss: 0.0051, Accuracy: 7923/10000 (79.23%)\n",
      "\n",
      "Epoch: 11\n"
     ]
    },
    {
     "name": "stderr",
     "output_type": "stream",
     "text": [
      " Loss=0.4715985655784607 Batch_id=390 Accuracy=87.44: 100%|██████████████████████████| 391/391 [00:45<00:00,  8.57it/s]\n"
     ]
    },
    {
     "name": "stdout",
     "output_type": "stream",
     "text": [
      "\n",
      "Test set: Average loss: 0.0064, Accuracy: 7611/10000 (76.11%)\n",
      "\n",
      "Epoch: 12\n"
     ]
    },
    {
     "name": "stderr",
     "output_type": "stream",
     "text": [
      " Loss=0.5349510908126831 Batch_id=390 Accuracy=88.92: 100%|██████████████████████████| 391/391 [00:45<00:00,  8.60it/s]\n"
     ]
    },
    {
     "name": "stdout",
     "output_type": "stream",
     "text": [
      "\n",
      "Test set: Average loss: 0.0059, Accuracy: 7854/10000 (78.54%)\n",
      "\n",
      "Epoch: 13\n"
     ]
    },
    {
     "name": "stderr",
     "output_type": "stream",
     "text": [
      " Loss=0.38795536756515503 Batch_id=390 Accuracy=90.20: 100%|█████████████████████████| 391/391 [00:45<00:00,  8.60it/s]\n"
     ]
    },
    {
     "name": "stdout",
     "output_type": "stream",
     "text": [
      "\n",
      "Test set: Average loss: 0.0059, Accuracy: 7816/10000 (78.16%)\n",
      "\n",
      "Epoch: 14\n"
     ]
    },
    {
     "name": "stderr",
     "output_type": "stream",
     "text": [
      " Loss=0.15845343470573425 Batch_id=390 Accuracy=91.25: 100%|█████████████████████████| 391/391 [00:45<00:00,  8.60it/s]\n"
     ]
    },
    {
     "name": "stdout",
     "output_type": "stream",
     "text": [
      "\n",
      "Test set: Average loss: 0.0062, Accuracy: 7865/10000 (78.65%)\n",
      "\n",
      "Epoch: 15\n"
     ]
    },
    {
     "name": "stderr",
     "output_type": "stream",
     "text": [
      " Loss=0.16420139372348785 Batch_id=390 Accuracy=91.97: 100%|█████████████████████████| 391/391 [00:45<00:00,  8.58it/s]\n"
     ]
    },
    {
     "name": "stdout",
     "output_type": "stream",
     "text": [
      "\n",
      "Test set: Average loss: 0.0066, Accuracy: 7779/10000 (77.79%)\n",
      "\n",
      "Epoch: 16\n"
     ]
    },
    {
     "name": "stderr",
     "output_type": "stream",
     "text": [
      " Loss=0.2531343102455139 Batch_id=390 Accuracy=92.75: 100%|██████████████████████████| 391/391 [00:45<00:00,  8.57it/s]\n"
     ]
    },
    {
     "name": "stdout",
     "output_type": "stream",
     "text": [
      "\n",
      "Test set: Average loss: 0.0064, Accuracy: 7841/10000 (78.41%)\n",
      "\n",
      "Epoch: 17\n"
     ]
    },
    {
     "name": "stderr",
     "output_type": "stream",
     "text": [
      " Loss=0.3434494733810425 Batch_id=390 Accuracy=93.59: 100%|██████████████████████████| 391/391 [00:45<00:00,  8.55it/s]\n"
     ]
    },
    {
     "name": "stdout",
     "output_type": "stream",
     "text": [
      "\n",
      "Test set: Average loss: 0.0076, Accuracy: 7754/10000 (77.54%)\n",
      "\n",
      "Epoch: 18\n"
     ]
    },
    {
     "name": "stderr",
     "output_type": "stream",
     "text": [
      " Loss=0.13785138726234436 Batch_id=390 Accuracy=94.07: 100%|█████████████████████████| 391/391 [00:45<00:00,  8.55it/s]\n"
     ]
    },
    {
     "name": "stdout",
     "output_type": "stream",
     "text": [
      "\n",
      "Test set: Average loss: 0.0070, Accuracy: 7775/10000 (77.75%)\n",
      "\n",
      "Epoch: 19\n"
     ]
    },
    {
     "name": "stderr",
     "output_type": "stream",
     "text": [
      " Loss=0.1805797517299652 Batch_id=390 Accuracy=94.67: 100%|██████████████████████████| 391/391 [00:45<00:00,  8.55it/s]\n"
     ]
    },
    {
     "name": "stdout",
     "output_type": "stream",
     "text": [
      "\n",
      "Test set: Average loss: 0.0067, Accuracy: 7861/10000 (78.61%)\n",
      "\n"
     ]
    }
   ],
   "source": [
    "epochs = 20\n",
    "for epoch in range(epochs):\n",
    "    print(f\"Epoch: {epoch}\")\n",
    "    trainer.train(train_loader)\n",
    "    trainer.test(test_loader)"
   ]
  },
  {
   "cell_type": "code",
   "execution_count": 15,
   "id": "7a2ebdc7",
   "metadata": {},
   "outputs": [],
   "source": [
    "train_losses, train_acc = trainer.get_train_stats()"
   ]
  },
  {
   "cell_type": "code",
   "execution_count": 16,
   "id": "33acb809",
   "metadata": {},
   "outputs": [],
   "source": [
    "test_losses, test_acc = trainer.get_test_stats()"
   ]
  },
  {
   "cell_type": "code",
   "execution_count": 17,
   "id": "e8584fe2",
   "metadata": {},
   "outputs": [],
   "source": [
    "misclassified_imgs = trainer.get_misclassified_images(test_loader)"
   ]
  },
  {
   "cell_type": "code",
   "execution_count": 18,
   "id": "0d1beddf",
   "metadata": {},
   "outputs": [
    {
     "data": {
      "image/png": "[encoded data removed]",
      "text/plain": [
       "<Figure size 640x480 with 1 Axes>"
      ]
     },
     "metadata": {},
     "output_type": "display_data"
    }
   ],
   "source": [
    "plot_stats(train_losses, test_losses, ['train_loss', 'test_loss'], xlabel='Epoch', ylabel='Loss',\n",
    "          title='Epoch vs Loss')"
   ]
  },
  {
   "cell_type": "code",
   "execution_count": 22,
   "id": "966c0c2f",
   "metadata": {},
   "outputs": [
    {
     "data": {
      "text/plain": [
       "8211"
      ]
     },
     "execution_count": 22,
     "metadata": {},
     "output_type": "execute_result"
    }
   ],
   "source": [
    "len(train_losses)\n",
    "# len(test_losses)"
   ]
  },
  {
   "cell_type": "code",
   "execution_count": 23,
   "id": "e0a356c8",
   "metadata": {},
   "outputs": [
    {
     "data": {
      "image/png": "[encoded data removed]",
      "text/plain": [
       "<Figure size 640x480 with 1 Axes>"
      ]
     },
     "metadata": {},
     "output_type": "display_data"
    }
   ],
   "source": [
    "plot_stats(train_acc, test_acc, ['train_loss', 'test_loss'], xlabel='Epoch', ylabel='Loss',\n",
    "          title='Epoch vs Loss')"
   ]
  },
  {
   "cell_type": "code",
   "execution_count": 24,
   "id": "c85e090f",
   "metadata": {},
   "outputs": [
    {
     "data": {
      "text/plain": [
       "20"
      ]
     },
     "execution_count": 24,
     "metadata": {},
     "output_type": "execute_result"
    }
   ],
   "source": [
    "len(test_acc)"
   ]
  },
  {
   "cell_type": "code",
   "execution_count": 25,
   "id": "8a95f9ce",
   "metadata": {},
   "outputs": [
    {
     "data": {
      "text/plain": [
       "8211"
      ]
     },
     "execution_count": 25,
     "metadata": {},
     "output_type": "execute_result"
    }
   ],
   "source": [
    "len(train_acc)"
   ]
  },
  {
   "cell_type": "code",
   "execution_count": 26,
   "id": "b13c0fa0",
   "metadata": {},
   "outputs": [
    {
     "name": "stderr",
     "output_type": "stream",
     "text": [
      "Clipping input data to the valid range for imshow with RGB data ([0..1] for floats or [0..255] for integers).\n",
      "Clipping input data to the valid range for imshow with RGB data ([0..1] for floats or [0..255] for integers).\n",
      "Clipping input data to the valid range for imshow with RGB data ([0..1] for floats or [0..255] for integers).\n",
      "Clipping input data to the valid range for imshow with RGB data ([0..1] for floats or [0..255] for integers).\n",
      "Clipping input data to the valid range for imshow with RGB data ([0..1] for floats or [0..255] for integers).\n",
      "Clipping input data to the valid range for imshow with RGB data ([0..1] for floats or [0..255] for integers).\n",
      "Clipping input data to the valid range for imshow with RGB data ([0..1] for floats or [0..255] for integers).\n",
      "Clipping input data to the valid range for imshow with RGB data ([0..1] for floats or [0..255] for integers).\n",
      "Clipping input data to the valid range for imshow with RGB data ([0..1] for floats or [0..255] for integers).\n",
      "Clipping input data to the valid range for imshow with RGB data ([0..1] for floats or [0..255] for integers).\n",
      "Clipping input data to the valid range for imshow with RGB data ([0..1] for floats or [0..255] for integers).\n",
      "Clipping input data to the valid range for imshow with RGB data ([0..1] for floats or [0..255] for integers).\n",
      "Clipping input data to the valid range for imshow with RGB data ([0..1] for floats or [0..255] for integers).\n",
      "Clipping input data to the valid range for imshow with RGB data ([0..1] for floats or [0..255] for integers).\n",
      "Clipping input data to the valid range for imshow with RGB data ([0..1] for floats or [0..255] for integers).\n",
      "Clipping input data to the valid range for imshow with RGB data ([0..1] for floats or [0..255] for integers).\n",
      "Clipping input data to the valid range for imshow with RGB data ([0..1] for floats or [0..255] for integers).\n",
      "Clipping input data to the valid range for imshow with RGB data ([0..1] for floats or [0..255] for integers).\n",
      "Clipping input data to the valid range for imshow with RGB data ([0..1] for floats or [0..255] for integers).\n",
      "Clipping input data to the valid range for imshow with RGB data ([0..1] for floats or [0..255] for integers).\n"
     ]
    },
    {
     "data": {
      "image/png": "[encoded data removed]",
      "text/plain": [
       "<Figure size 1000x1000 with 20 Axes>"
      ]
     },
     "metadata": {},
     "output_type": "display_data"
    }
   ],
   "source": [
    "plot_imgs(misclassified_imgs)"
   ]
  },
  {
   "cell_type": "code",
   "execution_count": null,
   "id": "e2e47d2d",
   "metadata": {},
   "outputs": [],
   "source": []
  }
 ],
 "metadata": {
  "kernelspec": {
   "display_name": "tf",
   "language": "python",
   "name": "tf"
  },
  "language_info": {
   "codemirror_mode": {
    "name": "ipython",
    "version": 3
   },
   "file_extension": ".py",
   "mimetype": "text/x-python",
   "name": "python",
   "nbconvert_exporter": "python",
   "pygments_lexer": "ipython3",
   "version": "3.9.13"
  }
 },
 "nbformat": 4,
 "nbformat_minor": 5
}
